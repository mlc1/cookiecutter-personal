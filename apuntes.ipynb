{
 "cells": [
  {
   "cell_type": "code",
   "execution_count": null,
   "metadata": {},
   "outputs": [],
   "source": []
  },
  {
   "cell_type": "markdown",
   "metadata": {},
   "source": [
    "* Agregar canales de conda para instalar cookiecutter\n",
    "\n",
    "conda config --add channels conda-forge  \n",
    "\n",
    "* Crear entorno para cookiecutter  \n",
    "\n",
    "conda create --name cookiecutter-personal cookiecutter   \n",
    "* Definir donde estara el ambiente\n",
    "\n",
    "conda env export --from-history --file enviroment.yml\n",
    "\n",
    "\n"
   ]
  }
 ],
 "metadata": {
  "language_info": {
   "name": "python"
  },
  "orig_nbformat": 4
 },
 "nbformat": 4,
 "nbformat_minor": 2
}
